{
 "cells": [
  {
   "cell_type": "code",
   "execution_count": 2,
   "metadata": {
    "collapsed": false
   },
   "outputs": [
    {
     "name": "stdout",
     "output_type": "stream",
     "text": [
      "          ID      target  48df886f9  0deb4b6a8  34b15f335  a8cb14b00  \\\n0  000d6aaf2  38000000.0        0.0          0        0.0          0   \n\n   2f0771a37  30347e683  d08d1fbe3  6ee66e115    ...      3ecc09859  \\\n0          0          0          0          0    ...            0.0   \n\n   9281abeea  8675bec0b  3a13ed79a  f677d4d13  71b203550  137efaa80  \\\n0        0.0        0.0          0          0          0          0   \n\n   fb36b89d9  7e293fbaf  9fc776466  \n0          0          0          0  \n\n[1 rows x 4993 columns]\n             ID      target  48df886f9  0deb4b6a8  34b15f335  a8cb14b00  \\\n2805  a46af09b5  3142857.14        0.0          0        0.0          0   \n\n      2f0771a37  30347e683  d08d1fbe3  6ee66e115    ...      3ecc09859  \\\n2805          0          0          0          0    ...            0.0   \n\n      9281abeea  8675bec0b  3a13ed79a  f677d4d13  71b203550  137efaa80  \\\n2805        0.0        0.0          0          0          0          0   \n\n      fb36b89d9  7e293fbaf  9fc776466  \n2805          0          0          0  \n\n[1 rows x 4993 columns]\n"
     ]
    }
   ],
   "source": [
    "import pandas\n",
    "\n",
    "training_data = pandas.read_csv('data/train.csv')\n",
    "training_data = training_data.sample(n=training_data.shape[0])"
   ]
  },
  {
   "cell_type": "code",
   "execution_count": null,
   "metadata": {},
   "outputs": [],
   "source": [
    "rows, cols = training_data.shape\n",
    "chunk_size = rows // 10 + 1\n",
    "for i in range(0, chunk_size, rows):\n",
    "    validation_subset = training_data.iloc[i:i + chunk_size]\n",
    "    training_subset = pandas.concat([\n",
    "        training_data.iloc[0:i],\n",
    "        training_data.iloc[i + chunk_size:]])\n",
    "    assert len(training_subset) + len(validation_subset) == rows, (\n",
    "        'training size {}, validation size {} should add to total size {}'.format(\n",
    "            len(training_subset), len(validation_subset), len(training_data)))\n",
    "    break\n"
   ]
  }
 ],
 "metadata": {
  "kernelspec": {
   "display_name": "Python 2",
   "language": "python",
   "name": "python2"
  },
  "language_info": {
   "codemirror_mode": {
    "name": "ipython",
    "version": 2
   },
   "file_extension": ".py",
   "mimetype": "text/x-python",
   "name": "python",
   "nbconvert_exporter": "python",
   "pygments_lexer": "ipython2",
   "version": "2.7.6"
  }
 },
 "nbformat": 4,
 "nbformat_minor": 0
}
