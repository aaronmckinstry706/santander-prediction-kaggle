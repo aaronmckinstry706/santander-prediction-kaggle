{
 "cells": [
  {
   "cell_type": "code",
   "execution_count": 7,
   "metadata": {
    "collapsed": false
   },
   "outputs": [
    {
     "data": {
      "text/html": [
       "<div>\n",
       "<style scoped>\n",
       "    .dataframe tbody tr th:only-of-type {\n",
       "        vertical-align: middle;\n",
       "    }\n",
       "\n",
       "    .dataframe tbody tr th {\n",
       "        vertical-align: top;\n",
       "    }\n",
       "\n",
       "    .dataframe thead th {\n",
       "        text-align: right;\n",
       "    }\n",
       "</style>\n",
       "<table border=\"1\" class=\"dataframe\">\n",
       "  <thead>\n",
       "    <tr style=\"text-align: right;\">\n",
       "      <th></th>\n",
       "      <th>B</th>\n",
       "      <th>C</th>\n",
       "      <th>D</th>\n",
       "    </tr>\n",
       "    <tr>\n",
       "      <th>A</th>\n",
       "      <th></th>\n",
       "      <th></th>\n",
       "      <th></th>\n",
       "    </tr>\n",
       "  </thead>\n",
       "  <tbody>\n",
       "    <tr>\n",
       "      <th>0.106863</th>\n",
       "      <td>0.301190</td>\n",
       "      <td>0.728405</td>\n",
       "      <td>0.695150</td>\n",
       "    </tr>\n",
       "    <tr>\n",
       "      <th>0.205978</th>\n",
       "      <td>0.566542</td>\n",
       "      <td>0.997007</td>\n",
       "      <td>0.358530</td>\n",
       "    </tr>\n",
       "    <tr>\n",
       "      <th>0.387484</th>\n",
       "      <td>0.794363</td>\n",
       "      <td>0.798005</td>\n",
       "      <td>0.261146</td>\n",
       "    </tr>\n",
       "  </tbody>\n",
       "</table>\n",
       "</div>"
      ],
      "text/plain": [
       "<div>\n",
       "<style scoped>\n",
       "    .dataframe tbody tr th:only-of-type {\n",
       "        vertical-align: middle;\n",
       "    }\n",
       "\n",
       "    .dataframe tbody tr th {\n",
       "        vertical-align: top;\n",
       "    }\n",
       "\n",
       "    .dataframe thead th {\n",
       "        text-align: right;\n",
       "    }\n",
       "</style>\n",
       "<table border=\"1\" class=\"dataframe\">\n",
       "  <thead>\n",
       "    <tr style=\"text-align: right;\">\n",
       "      <th></th>\n",
       "      <th>B</th>\n",
       "      <th>C</th>\n",
       "      <th>D</th>\n",
       "    </tr>\n",
       "    <tr>\n",
       "      <th>A</th>\n",
       "      <th></th>\n",
       "      <th></th>\n",
       "      <th></th>\n",
       "    </tr>\n",
       "  </thead>\n",
       "  <tbody>\n",
       "    <tr>\n",
       "      <th>0.106863</th>\n",
       "      <td>0.301190</td>\n",
       "      <td>0.728405</td>\n",
       "      <td>0.695150</td>\n",
       "    </tr>\n",
       "    <tr>\n",
       "      <th>0.205978</th>\n",
       "      <td>0.566542</td>\n",
       "      <td>0.997007</td>\n",
       "      <td>0.358530</td>\n",
       "    </tr>\n",
       "    <tr>\n",
       "      <th>0.387484</th>\n",
       "      <td>0.794363</td>\n",
       "      <td>0.798005</td>\n",
       "      <td>0.261146</td>\n",
       "    </tr>\n",
       "  </tbody>\n",
       "</table>\n",
       "</div>"
      ]
     },
     "execution_count": 7,
     "metadata": {},
     "output_type": "execute_result"
    }
   ],
   "source": [
    "import pandas, numpy\n",
    "\n",
    "training_data = pandas.DataFrame(numpy.random.rand(3, 4), columns=list('ABCD')).set_index('A')\n",
    "training_data = training_data.sample(n=training_data.shape[0])\n",
    "training_data"
   ]
  },
  {
   "cell_type": "code",
   "execution_count": 18,
   "metadata": {},
   "outputs": [
    {
     "data": {
      "text/plain": [
       "(tensor([[ 0.3012,  0.7284],\n         [ 0.5665,  0.9970],\n         [ 0.7944,  0.7980]]), tensor([[ 0.6952],\n         [ 0.3585],\n         [ 0.2611]]))"
      ]
     },
     "execution_count": 18,
     "metadata": {},
     "output_type": "execute_result"
    }
   ],
   "source": [
    "import torch\n",
    "\n",
    "data_tensor = torch.from_numpy(training_data.drop(columns='D').values).float()\n",
    "label_tensor = torch.from_numpy(training_data[['D']].values).float()\n",
    "(data_tensor, label_tensor)"
   ]
  },
  {
   "cell_type": "code",
   "execution_count": 30,
   "metadata": {},
   "outputs": [
    {
     "name": "stdout",
     "output_type": "stream",
     "text": [
      "tensor(0.7496)\ntensor(0.2902)\ntensor(0.1626)\ntensor(0.1124)\ntensor(1.00000e-02 *\n       8.5221)\ntensor(1.00000e-02 *\n       6.5617)\n"
     ]
    },
    {
     "name": "stdout",
     "output_type": "stream",
     "text": [
      "tensor(1.00000e-02 *\n       4.9681)\ntensor(1.00000e-02 *\n       3.6166)\ntensor(1.00000e-02 *\n       2.4805)\ntensor(1.00000e-02 *\n       1.5103)\n"
     ]
    }
   ],
   "source": [
    "import torch.nn as nn\n",
    "import torch.nn.functional as functional\n",
    "import torch.optim as optim\n",
    "\n",
    "\n",
    "linear_model = nn.Linear(training_data.shape[1] - 1, 1)\n",
    "mse_loss = nn.MSELoss()\n",
    "\n",
    "\n",
    "def rmse(t1, t2):\n",
    "    return torch.sqrt(mse_loss(t1, t2))\n",
    "\n",
    "\n",
    "optimizer = optim.LBFGS(linear_model.parameters(), lr=0.01)\n",
    "\n",
    "\n",
    "def evaluate_loss_closure():\n",
    "    optimizer.zero_grad()\n",
    "    loss: torch.Tensor = rmse(linear_model(data_tensor), label_tensor)\n",
    "    loss.backward()\n",
    "    return loss\n",
    "\n",
    "\n",
    "for i in range(10):\n",
    "    print(optimizer.step(evaluate_loss_closure))"
   ]
  },
  {
   "cell_type": "code",
   "execution_count": null,
   "metadata": {},
   "outputs": [],
   "source": [
    "predictions: torch.Tensor = linear_model(data_tensor)\n",
    "predictions = predictions.data\n",
    "predictions_dataframe = pandas.DataFrame(data=predictions.numpy(), columns=['target'], index=training_data.index)\n",
    "predictions_dataframe"
   ]
  }
 ],
 "metadata": {
  "kernelspec": {
   "display_name": "Python 2",
   "language": "python",
   "name": "python2"
  },
  "language_info": {
   "codemirror_mode": {
    "name": "ipython",
    "version": 2
   },
   "file_extension": ".py",
   "mimetype": "text/x-python",
   "name": "python",
   "nbconvert_exporter": "python",
   "pygments_lexer": "ipython2",
   "version": "2.7.6"
  }
 },
 "nbformat": 4,
 "nbformat_minor": 0
}
