{
 "cells": [
  {
   "cell_type": "code",
   "execution_count": 2,
   "metadata": {
    "collapsed": false
   },
   "outputs": [],
   "source": [
    "import pandas\n",
    "\n",
    "training_data = pandas.read_csv('data/train.csv')\n",
    "training_data = training_data.sample(n=training_data.shape[0])"
   ]
  },
  {
   "cell_type": "code",
   "execution_count": 16,
   "metadata": {},
   "outputs": [],
   "source": [
    "def folds(training_data: pandas.DataFrame, num_folds: int):\n",
    "    rows, cols = training_data.shape\n",
    "    fold_indexes = [i * len(training_data) // num_folds for i in range(num_folds + 1)]\n",
    "    for i in range(num_folds):\n",
    "        validation_subset = training_data.iloc[fold_indexes[i]:fold_indexes[i + 1]]\n",
    "        training_subset = pandas.concat([\n",
    "            training_data.iloc[:fold_indexes[i]],\n",
    "            training_data.iloc[fold_indexes[i + 1]:]\n",
    "        ])\n",
    "        assert len(training_subset) + len(validation_subset) == rows, (\n",
    "            'training size {}, validation size {} should add to total size {}'.format(\n",
    "                len(training_subset), len(validation_subset), len(training_data)))\n",
    "        yield training_subset, validation_subset\n",
    "\n",
    "\n",
    "def test_folds():\n",
    "    training_data = pandas.DataFrame(data=numpy.random.rand(4, 4), columns=list('ABCD'))\n",
    "    num_folds = 3\n",
    "    actual_folds = [t for t in folds(training_data, num_folds)]\n",
    "    expected_folds = [\n",
    "        # Expected validation folds are 0:1, 1:2, and 2:4.\n",
    "        (pandas.concat([training_data.iloc[:0], training_data.iloc[1:]]), training_data.iloc[0:1]),\n",
    "        (pandas.concat([training_data.iloc[:1], training_data.iloc[2:]]), training_data.iloc[1:2]),\n",
    "        (pandas.concat([training_data.iloc[:2], training_data.iloc[4:]]), training_data.iloc[2:4])\n",
    "    ]\n",
    "    assert num_folds == len(actual_folds), 'expected {} folds, but found {} folds.'.format(num_folds, len(actual_folds))\n",
    "    for ((expected_train, expected_val), (actual_train, actual_val)) in zip(expected_folds, actual_folds):\n",
    "        assert expected_train.equals(actual_train), (\n",
    "            'From training data:\\n{}\\nexpected training subset:\\n{}\\nactual training subset:\\n{}\\n'.format(\n",
    "                training_data, expected_train, actual_train))\n",
    "        assert expected_val.equals(actual_val), (\n",
    "            'From training data:\\n{}\\nexpected validation subset:\\n{}\\nactual validation subset:\\n{}\\n'.format(\n",
    "                training_data, expected_val, actual_val))\n",
    "\n",
    "\n",
    "test_folds()"
   ]
  },
  {
   "cell_type": "code",
   "execution_count": 17,
   "metadata": {},
   "outputs": [],
   "source": [
    "import typing\n",
    "import numpy\n",
    "import numpy.random\n",
    "\n",
    "\n",
    "def cross_validate(training_data: pandas.DataFrame, \n",
    "                   validation_score: typing.Callable[[pandas.DataFrame, pandas.DataFrame], float],\n",
    "                   num_folds: int) -> typing.Tuple[float, typing.List[float]]:\n",
    "    scores = []\n",
    "    for training_subset, validation_subset in folds(training_data, num_folds):\n",
    "        scores.append(validation_score(training_subset, validation_subset))\n",
    "    return sum(scores)/len(scores), scores\n",
    "\n",
    "\n",
    "def test_cross_validate():\n",
    "    def next_int(x: pandas.DataFrame, y: pandas.DataFrame) -> float:\n",
    "        next_int.x = next_int.x + 1\n",
    "        return next_int.x\n",
    "    next_int.x = 0\n",
    "    \n",
    "    training_data = pandas.DataFrame(data=numpy.random.randn(4, 4), columns=['A', 'B', 'C', 'D'])\n",
    "    num_folds = 3\n",
    "    mean_score, all_scores = cross_validate(training_data, next_int, num_folds)\n",
    "    assert tuple(all_scores) == (1, 2, 3), 'Scores should be (1, 2, 3), but are {}.'.format(all_scores)\n",
    "    assert mean_score == 2, 'Mean score should be 2, but is {}.'.format(mean_score)\n",
    "\n",
    "\n",
    "test_cross_validate()\n",
    "\n",
    "\n",
    "\n",
    "\n",
    "\n",
    "\n",
    "\n",
    "\n",
    "\n"
   ]
  }
 ],
 "metadata": {
  "kernelspec": {
   "display_name": "Python 2",
   "language": "python",
   "name": "python2"
  },
  "language_info": {
   "codemirror_mode": {
    "name": "ipython",
    "version": 2
   },
   "file_extension": ".py",
   "mimetype": "text/x-python",
   "name": "python",
   "nbconvert_exporter": "python",
   "pygments_lexer": "ipython2",
   "version": "2.7.6"
  }
 },
 "nbformat": 4,
 "nbformat_minor": 0
}
